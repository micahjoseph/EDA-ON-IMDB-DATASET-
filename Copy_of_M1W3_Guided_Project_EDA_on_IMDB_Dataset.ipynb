{
  "nbformat": 4,
  "nbformat_minor": 0,
  "metadata": {
    "kernelspec": {
      "display_name": "Python 3",
      "language": "python",
      "name": "python3"
    },
    "language_info": {
      "codemirror_mode": {
        "name": "ipython",
        "version": 3
      },
      "file_extension": ".py",
      "mimetype": "text/x-python",
      "name": "python",
      "nbconvert_exporter": "python",
      "pygments_lexer": "ipython3",
      "version": "3.7.1"
    },
    "colab": {
      "name": "Copy of M1W3 - Guided Project - EDA on IMDB Dataset.ipynb",
      "provenance": [],
      "collapsed_sections": []
    }
  },
  "cells": [
    {
      "cell_type": "markdown",
      "metadata": {
        "id": "3_Fv7J8jTBlu"
      },
      "source": [
        "## You have been hired by a rookie movie producer to help him decide what type of movies to produce and which actors to cast. You have to back your recommendations based on thorough analysis of the data he shared with you which has the list of 3000 movies and the corresponding details.\n",
        "\n",
        "## As a data scientist, you have to first explore the data and check its sanity.\n",
        "\n",
        "## Further, you have to answer the following questions:\n",
        "1. ### <b> Which movie made the highest profit? Who were its producer and director? Identify the actors in that film.</b>\n",
        "2. ### <b>This data has information about movies made in different languages. Which language has the highest average ROI (return on investment)? </b>\n",
        "3. ### <b> Find out the unique genres of movies in this dataset.</b>\n",
        "4. ### <b> Make a table of all the producers and directors of each movie. Find the top 3 producers who have produced movies with the highest average RoI? </b>\n",
        "5. ### <b> Which actor has acted in the most number of movies? Deep dive into the movies, genres and profits corresponding to this actor. </b>\n",
        "6. ### <b>Top 3 directors prefer which actors the most? </b>\n",
        "\n"
      ]
    },
    {
      "cell_type": "code",
      "source": [
        "from google.colab import drive\n",
        "drive.mount('/content/drive')"
      ],
      "metadata": {
        "colab": {
          "base_uri": "https://localhost:8080/"
        },
        "id": "gEoC95HUDef9",
        "outputId": "7ff1c9f8-67d7-41a6-f134-1cce3d07efdf"
      },
      "execution_count": 34,
      "outputs": [
        {
          "output_type": "stream",
          "name": "stdout",
          "text": [
            "Drive already mounted at /content/drive; to attempt to forcibly remount, call drive.mount(\"/content/drive\", force_remount=True).\n"
          ]
        }
      ]
    },
    {
      "cell_type": "markdown",
      "metadata": {
        "id": "Fx8CVjtZW_BF"
      },
      "source": [
        "# Data Exploration"
      ]
    },
    {
      "cell_type": "code",
      "metadata": {
        "id": "vq7iMfybnKNP"
      },
      "source": [
        "#Import package\n",
        "import pandas as pd\n",
        "import numpy as np"
      ],
      "execution_count": 35,
      "outputs": []
    },
    {
      "cell_type": "code",
      "source": [
        "df=pd.read_csv(\"/content/drive/MyDrive/Copy of imdb_data.csv\")"
      ],
      "metadata": {
        "id": "E9ccKF-ZDoRt"
      },
      "execution_count": 36,
      "outputs": []
    },
    {
      "cell_type": "code",
      "source": [
        "df.info()"
      ],
      "metadata": {
        "colab": {
          "base_uri": "https://localhost:8080/"
        },
        "id": "BcGEcM7OEmSb",
        "outputId": "8b8c70b9-1793-40a6-c800-b836d0a83ad8"
      },
      "execution_count": 37,
      "outputs": [
        {
          "output_type": "stream",
          "name": "stdout",
          "text": [
            "<class 'pandas.core.frame.DataFrame'>\n",
            "RangeIndex: 3000 entries, 0 to 2999\n",
            "Data columns (total 23 columns):\n",
            " #   Column                 Non-Null Count  Dtype  \n",
            "---  ------                 --------------  -----  \n",
            " 0   id                     3000 non-null   int64  \n",
            " 1   belongs_to_collection  604 non-null    object \n",
            " 2   budget                 3000 non-null   int64  \n",
            " 3   genres                 2993 non-null   object \n",
            " 4   homepage               946 non-null    object \n",
            " 5   imdb_id                3000 non-null   object \n",
            " 6   original_language      3000 non-null   object \n",
            " 7   original_title         3000 non-null   object \n",
            " 8   overview               2992 non-null   object \n",
            " 9   popularity             3000 non-null   float64\n",
            " 10  poster_path            2999 non-null   object \n",
            " 11  production_companies   2844 non-null   object \n",
            " 12  production_countries   2945 non-null   object \n",
            " 13  release_date           3000 non-null   object \n",
            " 14  runtime                2998 non-null   float64\n",
            " 15  spoken_languages       2980 non-null   object \n",
            " 16  status                 3000 non-null   object \n",
            " 17  tagline                2403 non-null   object \n",
            " 18  title                  3000 non-null   object \n",
            " 19  Keywords               2724 non-null   object \n",
            " 20  cast                   2987 non-null   object \n",
            " 21  crew                   2984 non-null   object \n",
            " 22  revenue                3000 non-null   int64  \n",
            "dtypes: float64(2), int64(3), object(18)\n",
            "memory usage: 539.2+ KB\n"
          ]
        }
      ]
    },
    {
      "cell_type": "code",
      "source": [
        "df.head()"
      ],
      "metadata": {
        "colab": {
          "base_uri": "https://localhost:8080/",
          "height": 687
        },
        "id": "NClI58DyEoWU",
        "outputId": "5376b934-92e3-42d9-def9-fa787c3c36a4"
      },
      "execution_count": 38,
      "outputs": [
        {
          "output_type": "execute_result",
          "data": {
            "text/html": [
              "\n",
              "  <div id=\"df-4a79c47a-3bb0-4730-8d07-ebcc498141cf\">\n",
              "    <div class=\"colab-df-container\">\n",
              "      <div>\n",
              "<style scoped>\n",
              "    .dataframe tbody tr th:only-of-type {\n",
              "        vertical-align: middle;\n",
              "    }\n",
              "\n",
              "    .dataframe tbody tr th {\n",
              "        vertical-align: top;\n",
              "    }\n",
              "\n",
              "    .dataframe thead th {\n",
              "        text-align: right;\n",
              "    }\n",
              "</style>\n",
              "<table border=\"1\" class=\"dataframe\">\n",
              "  <thead>\n",
              "    <tr style=\"text-align: right;\">\n",
              "      <th></th>\n",
              "      <th>id</th>\n",
              "      <th>belongs_to_collection</th>\n",
              "      <th>budget</th>\n",
              "      <th>genres</th>\n",
              "      <th>homepage</th>\n",
              "      <th>imdb_id</th>\n",
              "      <th>original_language</th>\n",
              "      <th>original_title</th>\n",
              "      <th>overview</th>\n",
              "      <th>popularity</th>\n",
              "      <th>poster_path</th>\n",
              "      <th>production_companies</th>\n",
              "      <th>production_countries</th>\n",
              "      <th>release_date</th>\n",
              "      <th>runtime</th>\n",
              "      <th>spoken_languages</th>\n",
              "      <th>status</th>\n",
              "      <th>tagline</th>\n",
              "      <th>title</th>\n",
              "      <th>Keywords</th>\n",
              "      <th>cast</th>\n",
              "      <th>crew</th>\n",
              "      <th>revenue</th>\n",
              "    </tr>\n",
              "  </thead>\n",
              "  <tbody>\n",
              "    <tr>\n",
              "      <th>0</th>\n",
              "      <td>1</td>\n",
              "      <td>[{'id': 313576, 'name': 'Hot Tub Time Machine ...</td>\n",
              "      <td>14000000</td>\n",
              "      <td>[{'id': 35, 'name': 'Comedy'}]</td>\n",
              "      <td>NaN</td>\n",
              "      <td>tt2637294</td>\n",
              "      <td>en</td>\n",
              "      <td>Hot Tub Time Machine 2</td>\n",
              "      <td>When Lou, who has become the \"father of the In...</td>\n",
              "      <td>6.575393</td>\n",
              "      <td>/tQtWuwvMf0hCc2QR2tkolwl7c3c.jpg</td>\n",
              "      <td>[{'name': 'Paramount Pictures', 'id': 4}, {'na...</td>\n",
              "      <td>[{'iso_3166_1': 'US', 'name': 'United States o...</td>\n",
              "      <td>2/20/15</td>\n",
              "      <td>93.0</td>\n",
              "      <td>[{'iso_639_1': 'en', 'name': 'English'}]</td>\n",
              "      <td>Released</td>\n",
              "      <td>The Laws of Space and Time are About to be Vio...</td>\n",
              "      <td>Hot Tub Time Machine 2</td>\n",
              "      <td>[{'id': 4379, 'name': 'time travel'}, {'id': 9...</td>\n",
              "      <td>[{'cast_id': 4, 'character': 'Lou', 'credit_id...</td>\n",
              "      <td>[{'credit_id': '59ac067c92514107af02c8c8', 'de...</td>\n",
              "      <td>12314651</td>\n",
              "    </tr>\n",
              "    <tr>\n",
              "      <th>1</th>\n",
              "      <td>2</td>\n",
              "      <td>[{'id': 107674, 'name': 'The Princess Diaries ...</td>\n",
              "      <td>40000000</td>\n",
              "      <td>[{'id': 35, 'name': 'Comedy'}, {'id': 18, 'nam...</td>\n",
              "      <td>NaN</td>\n",
              "      <td>tt0368933</td>\n",
              "      <td>en</td>\n",
              "      <td>The Princess Diaries 2: Royal Engagement</td>\n",
              "      <td>Mia Thermopolis is now a college graduate and ...</td>\n",
              "      <td>8.248895</td>\n",
              "      <td>/w9Z7A0GHEhIp7etpj0vyKOeU1Wx.jpg</td>\n",
              "      <td>[{'name': 'Walt Disney Pictures', 'id': 2}]</td>\n",
              "      <td>[{'iso_3166_1': 'US', 'name': 'United States o...</td>\n",
              "      <td>8/6/04</td>\n",
              "      <td>113.0</td>\n",
              "      <td>[{'iso_639_1': 'en', 'name': 'English'}]</td>\n",
              "      <td>Released</td>\n",
              "      <td>It can take a lifetime to find true love; she'...</td>\n",
              "      <td>The Princess Diaries 2: Royal Engagement</td>\n",
              "      <td>[{'id': 2505, 'name': 'coronation'}, {'id': 42...</td>\n",
              "      <td>[{'cast_id': 1, 'character': 'Mia Thermopolis'...</td>\n",
              "      <td>[{'credit_id': '52fe43fe9251416c7502563d', 'de...</td>\n",
              "      <td>95149435</td>\n",
              "    </tr>\n",
              "    <tr>\n",
              "      <th>2</th>\n",
              "      <td>3</td>\n",
              "      <td>NaN</td>\n",
              "      <td>3300000</td>\n",
              "      <td>[{'id': 18, 'name': 'Drama'}]</td>\n",
              "      <td>http://sonyclassics.com/whiplash/</td>\n",
              "      <td>tt2582802</td>\n",
              "      <td>en</td>\n",
              "      <td>Whiplash</td>\n",
              "      <td>Under the direction of a ruthless instructor, ...</td>\n",
              "      <td>64.299990</td>\n",
              "      <td>/lIv1QinFqz4dlp5U4lQ6HaiskOZ.jpg</td>\n",
              "      <td>[{'name': 'Bold Films', 'id': 2266}, {'name': ...</td>\n",
              "      <td>[{'iso_3166_1': 'US', 'name': 'United States o...</td>\n",
              "      <td>10/10/14</td>\n",
              "      <td>105.0</td>\n",
              "      <td>[{'iso_639_1': 'en', 'name': 'English'}]</td>\n",
              "      <td>Released</td>\n",
              "      <td>The road to greatness can take you to the edge.</td>\n",
              "      <td>Whiplash</td>\n",
              "      <td>[{'id': 1416, 'name': 'jazz'}, {'id': 1523, 'n...</td>\n",
              "      <td>[{'cast_id': 5, 'character': 'Andrew Neimann',...</td>\n",
              "      <td>[{'credit_id': '54d5356ec3a3683ba0000039', 'de...</td>\n",
              "      <td>13092000</td>\n",
              "    </tr>\n",
              "    <tr>\n",
              "      <th>3</th>\n",
              "      <td>4</td>\n",
              "      <td>NaN</td>\n",
              "      <td>1200000</td>\n",
              "      <td>[{'id': 53, 'name': 'Thriller'}, {'id': 18, 'n...</td>\n",
              "      <td>http://kahaanithefilm.com/</td>\n",
              "      <td>tt1821480</td>\n",
              "      <td>hi</td>\n",
              "      <td>Kahaani</td>\n",
              "      <td>Vidya Bagchi (Vidya Balan) arrives in Kolkata ...</td>\n",
              "      <td>3.174936</td>\n",
              "      <td>/aTXRaPrWSinhcmCrcfJK17urp3F.jpg</td>\n",
              "      <td>NaN</td>\n",
              "      <td>[{'iso_3166_1': 'IN', 'name': 'India'}]</td>\n",
              "      <td>3/9/12</td>\n",
              "      <td>122.0</td>\n",
              "      <td>[{'iso_639_1': 'en', 'name': 'English'}, {'iso...</td>\n",
              "      <td>Released</td>\n",
              "      <td>NaN</td>\n",
              "      <td>Kahaani</td>\n",
              "      <td>[{'id': 10092, 'name': 'mystery'}, {'id': 1054...</td>\n",
              "      <td>[{'cast_id': 1, 'character': 'Vidya Bagchi', '...</td>\n",
              "      <td>[{'credit_id': '52fe48779251416c9108d6eb', 'de...</td>\n",
              "      <td>16000000</td>\n",
              "    </tr>\n",
              "    <tr>\n",
              "      <th>4</th>\n",
              "      <td>5</td>\n",
              "      <td>NaN</td>\n",
              "      <td>0</td>\n",
              "      <td>[{'id': 28, 'name': 'Action'}, {'id': 53, 'nam...</td>\n",
              "      <td>NaN</td>\n",
              "      <td>tt1380152</td>\n",
              "      <td>ko</td>\n",
              "      <td>마린보이</td>\n",
              "      <td>Marine Boy is the story of a former national s...</td>\n",
              "      <td>1.148070</td>\n",
              "      <td>/m22s7zvkVFDU9ir56PiiqIEWFdT.jpg</td>\n",
              "      <td>NaN</td>\n",
              "      <td>[{'iso_3166_1': 'KR', 'name': 'South Korea'}]</td>\n",
              "      <td>2/5/09</td>\n",
              "      <td>118.0</td>\n",
              "      <td>[{'iso_639_1': 'ko', 'name': '한국어/조선말'}]</td>\n",
              "      <td>Released</td>\n",
              "      <td>NaN</td>\n",
              "      <td>Marine Boy</td>\n",
              "      <td>NaN</td>\n",
              "      <td>[{'cast_id': 3, 'character': 'Chun-soo', 'cred...</td>\n",
              "      <td>[{'credit_id': '52fe464b9251416c75073b43', 'de...</td>\n",
              "      <td>3923970</td>\n",
              "    </tr>\n",
              "  </tbody>\n",
              "</table>\n",
              "</div>\n",
              "      <button class=\"colab-df-convert\" onclick=\"convertToInteractive('df-4a79c47a-3bb0-4730-8d07-ebcc498141cf')\"\n",
              "              title=\"Convert this dataframe to an interactive table.\"\n",
              "              style=\"display:none;\">\n",
              "        \n",
              "  <svg xmlns=\"http://www.w3.org/2000/svg\" height=\"24px\"viewBox=\"0 0 24 24\"\n",
              "       width=\"24px\">\n",
              "    <path d=\"M0 0h24v24H0V0z\" fill=\"none\"/>\n",
              "    <path d=\"M18.56 5.44l.94 2.06.94-2.06 2.06-.94-2.06-.94-.94-2.06-.94 2.06-2.06.94zm-11 1L8.5 8.5l.94-2.06 2.06-.94-2.06-.94L8.5 2.5l-.94 2.06-2.06.94zm10 10l.94 2.06.94-2.06 2.06-.94-2.06-.94-.94-2.06-.94 2.06-2.06.94z\"/><path d=\"M17.41 7.96l-1.37-1.37c-.4-.4-.92-.59-1.43-.59-.52 0-1.04.2-1.43.59L10.3 9.45l-7.72 7.72c-.78.78-.78 2.05 0 2.83L4 21.41c.39.39.9.59 1.41.59.51 0 1.02-.2 1.41-.59l7.78-7.78 2.81-2.81c.8-.78.8-2.07 0-2.86zM5.41 20L4 18.59l7.72-7.72 1.47 1.35L5.41 20z\"/>\n",
              "  </svg>\n",
              "      </button>\n",
              "      \n",
              "  <style>\n",
              "    .colab-df-container {\n",
              "      display:flex;\n",
              "      flex-wrap:wrap;\n",
              "      gap: 12px;\n",
              "    }\n",
              "\n",
              "    .colab-df-convert {\n",
              "      background-color: #E8F0FE;\n",
              "      border: none;\n",
              "      border-radius: 50%;\n",
              "      cursor: pointer;\n",
              "      display: none;\n",
              "      fill: #1967D2;\n",
              "      height: 32px;\n",
              "      padding: 0 0 0 0;\n",
              "      width: 32px;\n",
              "    }\n",
              "\n",
              "    .colab-df-convert:hover {\n",
              "      background-color: #E2EBFA;\n",
              "      box-shadow: 0px 1px 2px rgba(60, 64, 67, 0.3), 0px 1px 3px 1px rgba(60, 64, 67, 0.15);\n",
              "      fill: #174EA6;\n",
              "    }\n",
              "\n",
              "    [theme=dark] .colab-df-convert {\n",
              "      background-color: #3B4455;\n",
              "      fill: #D2E3FC;\n",
              "    }\n",
              "\n",
              "    [theme=dark] .colab-df-convert:hover {\n",
              "      background-color: #434B5C;\n",
              "      box-shadow: 0px 1px 3px 1px rgba(0, 0, 0, 0.15);\n",
              "      filter: drop-shadow(0px 1px 2px rgba(0, 0, 0, 0.3));\n",
              "      fill: #FFFFFF;\n",
              "    }\n",
              "  </style>\n",
              "\n",
              "      <script>\n",
              "        const buttonEl =\n",
              "          document.querySelector('#df-4a79c47a-3bb0-4730-8d07-ebcc498141cf button.colab-df-convert');\n",
              "        buttonEl.style.display =\n",
              "          google.colab.kernel.accessAllowed ? 'block' : 'none';\n",
              "\n",
              "        async function convertToInteractive(key) {\n",
              "          const element = document.querySelector('#df-4a79c47a-3bb0-4730-8d07-ebcc498141cf');\n",
              "          const dataTable =\n",
              "            await google.colab.kernel.invokeFunction('convertToInteractive',\n",
              "                                                     [key], {});\n",
              "          if (!dataTable) return;\n",
              "\n",
              "          const docLinkHtml = 'Like what you see? Visit the ' +\n",
              "            '<a target=\"_blank\" href=https://colab.research.google.com/notebooks/data_table.ipynb>data table notebook</a>'\n",
              "            + ' to learn more about interactive tables.';\n",
              "          element.innerHTML = '';\n",
              "          dataTable['output_type'] = 'display_data';\n",
              "          await google.colab.output.renderOutput(dataTable, element);\n",
              "          const docLink = document.createElement('div');\n",
              "          docLink.innerHTML = docLinkHtml;\n",
              "          element.appendChild(docLink);\n",
              "        }\n",
              "      </script>\n",
              "    </div>\n",
              "  </div>\n",
              "  "
            ],
            "text/plain": [
              "   id  ...   revenue\n",
              "0   1  ...  12314651\n",
              "1   2  ...  95149435\n",
              "2   3  ...  13092000\n",
              "3   4  ...  16000000\n",
              "4   5  ...   3923970\n",
              "\n",
              "[5 rows x 23 columns]"
            ]
          },
          "metadata": {},
          "execution_count": 38
        }
      ]
    },
    {
      "cell_type": "code",
      "source": [
        "df.loc[0,'crew']"
      ],
      "metadata": {
        "colab": {
          "base_uri": "https://localhost:8080/",
          "height": 191
        },
        "id": "iRUnbexIEwUe",
        "outputId": "d4ba2cec-8fff-4b7b-bdbf-b7174829a6d8"
      },
      "execution_count": 39,
      "outputs": [
        {
          "output_type": "execute_result",
          "data": {
            "application/vnd.google.colaboratory.intrinsic+json": {
              "type": "string"
            },
            "text/plain": [
              "'[{\\'credit_id\\': \\'59ac067c92514107af02c8c8\\', \\'department\\': \\'Directing\\', \\'gender\\': 0, \\'id\\': 1449071, \\'job\\': \\'First Assistant Director\\', \\'name\\': \\'Kelly Cantley\\', \\'profile_path\\': None}, {\\'credit_id\\': \\'52fe4ee7c3a36847f82afad7\\', \\'department\\': \\'Directing\\', \\'gender\\': 2, \\'id\\': 3227, \\'job\\': \\'Director\\', \\'name\\': \\'Steve Pink\\', \\'profile_path\\': \\'/myHOgo8mQSCiCAZNGMRdHVr03jr.jpg\\'}, {\\'credit_id\\': \\'5524ed25c3a3687ded000d88\\', \\'department\\': \\'Writing\\', \\'gender\\': 2, \\'id\\': 347335, \\'job\\': \\'Writer\\', \\'name\\': \\'Josh Heald\\', \\'profile_path\\': \\'/pwXJIenrDMrG7t3zNfLvr8w1RGU.jpg\\'}, {\\'credit_id\\': \\'5524ed2d925141720c001128\\', \\'department\\': \\'Writing\\', \\'gender\\': 2, \\'id\\': 347335, \\'job\\': \\'Characters\\', \\'name\\': \\'Josh Heald\\', \\'profile_path\\': \\'/pwXJIenrDMrG7t3zNfLvr8w1RGU.jpg\\'}, {\\'credit_id\\': \\'5524ed3d92514166c1004a5d\\', \\'department\\': \\'Production\\', \\'gender\\': 2, \\'id\\': 57822, \\'job\\': \\'Producer\\', \\'name\\': \\'Andrew Panay\\', \\'profile_path\\': None}, {\\'credit_id\\': \\'5524ed4bc3a3687df3000dd2\\', \\'department\\': \\'Production\\', \\'gender\\': 0, \\'id\\': 1451395, \\'job\\': \\'Associate Producer\\', \\'name\\': \\'Adam Blum\\', \\'profile_path\\': None}, {\\'credit_id\\': \\'5524ed5a925141720c00112c\\', \\'department\\': \\'Production\\', \\'gender\\': 2, \\'id\\': 52997, \\'job\\': \\'Executive Producer\\', \\'name\\': \\'Rob Corddry\\', \\'profile_path\\': \\'/k2zJL0V1nEZuFT08xUdOd3ucfXz.jpg\\'}, {\\'credit_id\\': \\'5524ed85c3a3687e0e000f56\\', \\'department\\': \\'Production\\', \\'gender\\': 0, \\'id\\': 62807, \\'job\\': \\'Executive Producer\\', \\'name\\': \\'Ben Ormand\\', \\'profile_path\\': None}, {\\'credit_id\\': \\'5524ed9fc3a3687e0e000f59\\', \\'department\\': \\'Sound\\', \\'gender\\': 2, \\'id\\': 23486, \\'job\\': \\'Original Music Composer\\', \\'name\\': \\'Christophe Beck\\', \\'profile_path\\': \\'/2fnJUmCk6IEpVIptpYaUk31epHx.jpg\\'}, {\\'credit_id\\': \\'5524eda6c3a3687e03000d28\\', \\'department\\': \\'Camera\\', \\'gender\\': 2, \\'id\\': 6117, \\'job\\': \\'Director of Photography\\', \\'name\\': \\'Declan Quinn\\', \\'profile_path\\': None}, {\\'credit_id\\': \\'5524edb4925141720c00113d\\', \\'department\\': \\'Editing\\', \\'gender\\': 0, \\'id\\': 1451396, \\'job\\': \\'Editor\\', \\'name\\': \\'Jamie Gross\\', \\'profile_path\\': None}, {\\'credit_id\\': \\'5524edc1925141727600102e\\', \\'department\\': \\'Production\\', \\'gender\\': 0, \\'id\\': 22219, \\'job\\': \\'Casting\\', \\'name\\': \\'Susie Farris\\', \\'profile_path\\': None}, {\\'credit_id\\': \\'5524edd192514171cb008257\\', \\'department\\': \\'Art\\', \\'gender\\': 0, \\'id\\': 1002643, \\'job\\': \\'Production Design\\', \\'name\\': \\'Ryan Berg\\', \\'profile_path\\': None}, {\\'credit_id\\': \\'555ad9be9251411e5b00d485\\', \\'department\\': \\'Production\\', \\'gender\\': 2, \\'id\\': 57431, \\'job\\': \\'Executive Producer\\', \\'name\\': \\'Matt Moore\\', \\'profile_path\\': None}, {\\'credit_id\\': \\'5677e93bc3a36816890087dc\\', \\'department\\': \\'Directing\\', \\'gender\\': 0, \\'id\\': 1551818, \\'job\\': \\'Script Supervisor\\', \\'name\\': \\'Nicole Garcea\\', \\'profile_path\\': None}, {\\'credit_id\\': \\'5677e96a92514179e10093d0\\', \\'department\\': \\'Production\\', \\'gender\\': 0, \\'id\\': 1551819, \\'job\\': \\'Production Coordinator\\', \\'name\\': \\'Jason Salzman\\', \\'profile_path\\': None}, {\\'credit_id\\': \\'5677e98492514179d2008cd9\\', \\'department\\': \\'Costume & Make-Up\\', \\'gender\\': 0, \\'id\\': 1422996, \\'job\\': \\'Costume Design\\', \\'name\\': \\'Carol Cutshall\\', \\'profile_path\\': None}, {\\'credit_id\\': \\'5677e9d5c3a368168e009414\\', \\'department\\': \\'Art\\', \\'gender\\': 2, \\'id\\': 500199, \\'job\\': \\'Set Decoration\\', \\'name\\': \\'Tim Cohn\\', \\'profile_path\\': None}, {\\'credit_id\\': \\'5677f89d9251417845001a61\\', \\'department\\': \\'Costume & Make-Up\\', \\'gender\\': 0, \\'id\\': 1527917, \\'job\\': \\'Hair Department Head\\', \\'name\\': \\'Voni Hinkle\\', \\'profile_path\\': None}, {\\'credit_id\\': \\'5677f8b392514179dd0089fb\\', \\'department\\': \\'Costume & Make-Up\\', \\'gender\\': 0, \\'id\\': 1431554, \\'job\\': \\'Makeup Department Head\\', \\'name\\': \\'Remi Savva\\', \\'profile_path\\': None}, {\\'credit_id\\': \\'5677f8d1c3a3681689008a4b\\', \\'department\\': \\'Art\\', \\'gender\\': 0, \\'id\\': 66495, \\'job\\': \\'Art Direction\\', \\'name\\': \\'Jason Baldwin Stewart\\', \\'profile_path\\': None}, {\\'credit_id\\': \\'5677f8eec3a3681685008dd5\\', \\'department\\': \\'Production\\', \\'gender\\': 0, \\'id\\': 1412466, \\'job\\': \\'Production Supervisor\\', \\'name\\': \\'Korey Budd\\', \\'profile_path\\': None}, {\\'credit_id\\': \\'5677f90a9251417845001a7d\\', \\'department\\': \\'Sound\\', \\'gender\\': 0, \\'id\\': 1401562, \\'job\\': \\'Sound Re-Recording Mixer\\', \\'name\\': \\'Gary C. Bourgeois\\', \\'profile_path\\': None}, {\\'credit_id\\': \\'5677f91e9251417845001a84\\', \\'department\\': \\'Sound\\', \\'gender\\': 0, \\'id\\': 1396794, \\'job\\': \\'Sound Re-Recording Mixer\\', \\'name\\': \\'Gabriel J. Serrano\\', \\'profile_path\\': None}, {\\'credit_id\\': \\'5677f938c3a3681680008dd4\\', \\'department\\': \\'Editing\\', \\'gender\\': 0, \\'id\\': 13168, \\'job\\': \\'Dialogue Editor\\', \\'name\\': \\'Victoria Rose Sampson\\', \\'profile_path\\': None}, {\\'credit_id\\': \\'5677f94e92514179dd008a1f\\', \\'department\\': \\'Sound\\', \\'gender\\': 0, \\'id\\': 1551839, \\'job\\': \\'Production Sound Mixer\\', \\'name\\': \\'Michael B. Koff\\', \\'profile_path\\': None}, {\\'credit_id\\': \\'5677f968c3a368168e009698\\', \\'department\\': \\'Sound\\', \\'gender\\': 0, \\'id\\': 113052, \\'job\\': \\'Sound Effects Editor\\', \\'name\\': \\'Randall Guth\\', \\'profile_path\\': None}, {\\'credit_id\\': \\'5677f98dc3a3681685008e02\\', \\'department\\': \\'Crew\\', \\'gender\\': 2, \\'id\\': 1442535, \\'job\\': \\'Stunt Coordinator\\', \\'name\\': \\'Chuck Picerni Jr.\\', \\'profile_path\\': \\'/yE5QtXUzcrnCzMRctZL8F5g842B.jpg\\'}, {\\'credit_id\\': \\'5677f9a692514179dd008a49\\', \\'department\\': \\'Camera\\', \\'gender\\': 0, \\'id\\': 1437305, \\'job\\': \\'Camera Operator\\', \\'name\\': \\'Michael Applebaum\\', \\'profile_path\\': None}, {\\'credit_id\\': \\'5677f9bd9251417845001aae\\', \\'department\\': \\'Camera\\', \\'gender\\': 0, \\'id\\': 1401765, \\'job\\': \\'Still Photographer\\', \\'name\\': \\'Steve Dietl\\', \\'profile_path\\': None}, {\\'credit_id\\': \\'5677f9e592514179e7008bf7\\', \\'department\\': \\'Lighting\\', \\'gender\\': 0, \\'id\\': 1402721, \\'job\\': \\'Rigging Gaffer\\', \\'name\\': \\'Tarik Naim Alherimi\\', \\'profile_path\\': None}, {\\'credit_id\\': \\'5677f9f4c3a368167c0090ed\\', \\'department\\': \\'Lighting\\', \\'gender\\': 0, \\'id\\': 1402719, \\'job\\': \\'Gaffer\\', \\'name\\': \\'Paul Olinde\\', \\'profile_path\\': None}, {\\'credit_id\\': \\'5677fa21c3a368168e0096ca\\', \\'department\\': \\'Sound\\', \\'gender\\': 0, \\'id\\': 1551840, \\'job\\': \\'Music Supervisor\\', \\'name\\': \\'Steve Griffen\\', \\'profile_path\\': None}, {\\'credit_id\\': \\'5677fa31c3a3681680008e04\\', \\'department\\': \\'Sound\\', \\'gender\\': 0, \\'id\\': 1551841, \\'job\\': \\'Music Editor\\', \\'name\\': \\'Matt Fausak\\', \\'profile_path\\': None}, {\\'credit_id\\': \\'5677fa4392514179dd008a76\\', \\'department\\': \\'Sound\\', \\'gender\\': 0, \\'id\\': 1551840, \\'job\\': \\'Music Editor\\', \\'name\\': \\'Steve Griffen\\', \\'profile_path\\': None}, {\\'credit_id\\': \\'5677fa609251417845001acf\\', \\'department\\': \\'Costume & Make-Up\\', \\'gender\\': 0, \\'id\\': 1403416, \\'job\\': \\'Costume Supervisor\\', \\'name\\': \\'Shonta T. McCray\\', \\'profile_path\\': None}, {\\'credit_id\\': \\'5677fa8492514179d2008fb3\\', \\'department\\': \\'Camera\\', \\'gender\\': 0, \\'id\\': 1425831, \\'job\\': \\'Steadicam Operator\\', \\'name\\': \\'Mark Karavite\\', \\'profile_path\\': None}, {\\'credit_id\\': \\'5677fab2c3a3681689008ac3\\', \\'department\\': \\'Camera\\', \\'gender\\': 0, \\'id\\': 1551842, \\'job\\': \\'First Assistant Camera\\', \\'name\\': \\'Joe Waistell\\', \\'profile_path\\': None}, {\\'credit_id\\': \\'5677faecc3a368168e0096fe\\', \\'department\\': \\'Sound\\', \\'gender\\': 0, \\'id\\': 58362, \\'job\\': \\'Supervising Sound Editor\\', \\'name\\': \\'Michael Hilkene\\', \\'profile_path\\': None}, {\\'credit_id\\': \\'59ac0368c3a3682c0a02c484\\', \\'department\\': \\'Crew\\', \\'gender\\': 0, \\'id\\': 1881584, \\'job\\': \\'Additional Writing\\', \\'name\\': \\'John Karnay\\', \\'profile_path\\': None}, {\\'credit_id\\': \\'59ac0411c3a3682bf0028966\\', \\'department\\': \\'Costume & Make-Up\\', \\'gender\\': 0, \\'id\\': 1431552, \\'job\\': \\'Hairstylist\\', \\'name\\': \\'Daina Daigle\\', \\'profile_path\\': None}, {\\'credit_id\\': \\'59ac0504925141072302b8fb\\', \\'department\\': \\'Costume & Make-Up\\', \\'gender\\': 0, \\'id\\': 1712001, \\'job\\': \\'Makeup Artist\\', \\'name\\': \\'Allison Gordin\\', \\'profile_path\\': None}, {\\'credit_id\\': \\'59ac0570c3a3682bf0028aac\\', \\'department\\': \\'Costume & Make-Up\\', \\'gender\\': 0, \\'id\\': 578725, \\'job\\': \\'Makeup Artist\\', \\'name\\': \\'Darryl Lucas\\', \\'profile_path\\': None}, {\\'credit_id\\': \\'59ac05a4925141077e02c97e\\', \\'department\\': \\'Costume & Make-Up\\', \\'gender\\': 0, \\'id\\': 1463274, \\'job\\': \\'Makeup Artist\\', \\'name\\': \\'Annabelle MacNeal\\', \\'profile_path\\': None}, {\\'credit_id\\': \\'59ac05c6925141076502d106\\', \\'department\\': \\'Costume & Make-Up\\', \\'gender\\': 0, \\'id\\': 1881586, \\'job\\': \\'Makeup Artist\\', \\'name\\': \\'Marina Savva\\', \\'profile_path\\': None}, {\\'credit_id\\': \\'59ac0615c3a3682c480296aa\\', \\'department\\': \\'Costume & Make-Up\\', \\'gender\\': 0, \\'id\\': 1406267, \\'job\\': \\'Hairstylist\\', \\'name\\': \\'Carl G. Variste\\', \\'profile_path\\': None}, {\\'credit_id\\': \\'59ac06ba925141076502d1fa\\', \\'department\\': \\'Directing\\', \\'gender\\': 0, \\'id\\': 1798593, \\'job\\': \\'First Assistant Director\\', \\'name\\': \\'Josh King\\', \\'profile_path\\': None}, {\\'credit_id\\': \\'59ac06f1c3a3682c2202aca0\\', \\'department\\': \\'Art\\', \\'gender\\': 0, \\'id\\': 1415083, \\'job\\': \\'Greensman\\', \\'name\\': \\'Scott C. Bivona\\', \\'profile_path\\': None}, {\\'credit_id\\': \\'59ac072c925141076502d260\\', \\'department\\': \\'Art\\', \\'gender\\': 0, \\'id\\': 1881587, \\'job\\': \\'Title Designer\\', \\'name\\': \\'Eunha Choi\\', \\'profile_path\\': None}, {\\'credit_id\\': \\'59ac077c925141077e02cb62\\', \\'department\\': \\'Art\\', \\'gender\\': 0, \\'id\\': 1585302, \\'job\\': \\'Construction Coordinator\\', \\'name\\': \\'Daniel Coe\\', \\'profile_path\\': None}, {\\'credit_id\\': \\'59ac07e0925141078a02d842\\', \\'department\\': \\'Art\\', \\'gender\\': 0, \\'id\\': 1495523, \\'job\\': \\'Set Designer\\', \\'name\\': \\'Spencer Davison\\', \\'profile_path\\': None}, {\\'credit_id\\': \\'59ac0862925141072f02cf6f\\', \\'department\\': \\'Art\\', \\'gender\\': 0, \\'id\\': 1881589, \\'job\\': \\'Painter\\', \\'name\\': \\'Sonia L. Garcia\\', \\'profile_path\\': None}, {\\'credit_id\\': \\'59ac08e0c3a3682bf0028e51\\', \\'department\\': \\'Art\\', \\'gender\\': 0, \\'id\\': 1424896, \\'job\\': \\'Art Department Coordinator\\', \\'name\\': \\'Caleb Guillotte\\', \\'profile_path\\': None}, {\\'credit_id\\': \\'59ac0920c3a3682c2202af36\\', \\'department\\': \\'Art\\', \\'gender\\': 0, \\'id\\': 1393375, \\'job\\': \\'Leadman\\', \\'name\\': \"Pat A. O\\'Connor\", \\'profile_path\\': None}, {\\'credit_id\\': \\'59ac095592514107af02cc39\\', \\'department\\': \\'Art\\', \\'gender\\': 0, \\'id\\': 1881592, \\'job\\': \\'Set Designer\\', \\'name\\': \\'Brendan Turrill\\', \\'profile_path\\': None}, {\\'credit_id\\': \\'59ac0989925141072302bdfa\\', \\'department\\': \\'Art\\', \\'gender\\': 2, \\'id\\': 76497, \\'job\\': \\'Property Master\\', \\'name\\': \\'Brook Yeaton\\', \\'profile_path\\': None}, {\\'credit_id\\': \\'59ac0a2cc3a3682c9c02add1\\', \\'department\\': \\'Sound\\', \\'gender\\': 0, \\'id\\': 1881596, \\'job\\': \\'Boom Operator\\', \\'name\\': \\'Matthew Armstrong\\', \\'profile_path\\': None}, {\\'credit_id\\': \\'59ac0aa8925141072f02d282\\', \\'department\\': \\'Visual Effects\\', \\'gender\\': 2, \\'id\\': 1558086, \\'job\\': \\'Special Effects Supervisor\\', \\'name\\': \\'Matt Kutcher\\', \\'profile_path\\': None}, {\\'credit_id\\': \\'59ac0b2ac3a3682c2202b192\\', \\'department\\': \\'Crew\\', \\'gender\\': 2, \\'id\\': 1558087, \\'job\\': \\'Special Effects Coordinator\\', \\'name\\': \\'Eric Roberts\\', \\'profile_path\\': None}, {\\'credit_id\\': \\'59ac0b7ac3a3682c2202b1fb\\', \\'department\\': \\'Visual Effects\\', \\'gender\\': 0, \\'id\\': 1392098, \\'job\\': \\'Visual Effects Supervisor\\', \\'name\\': \\'Rocco Passionino\\', \\'profile_path\\': None}, {\\'credit_id\\': \\'59ac0bbe925141077e02d0c4\\', \\'department\\': \\'Visual Effects\\', \\'gender\\': 0, \\'id\\': 1558716, \\'job\\': \\'Visual Effects Coordinator\\', \\'name\\': \\'Joseph Payo\\', \\'profile_path\\': None}, {\\'credit_id\\': \\'59ac0bf2c3a3682cc802cefa\\', \\'department\\': \\'Visual Effects\\', \\'gender\\': 0, \\'id\\': 1408784, \\'job\\': \\'Visual Effects Producer\\', \\'name\\': \\'Chris Roff\\', \\'profile_path\\': None}, {\\'credit_id\\': \\'59ac0c51c3a3682c48029d99\\', \\'department\\': \\'Lighting\\', \\'gender\\': 0, \\'id\\': 1881600, \\'job\\': \\'Best Boy Electric\\', \\'name\\': \\'Ulyan Atamanyuk\\', \\'profile_path\\': None}, {\\'credit_id\\': \\'59ac0cbac3a3682c0a02cff6\\', \\'department\\': \\'Camera\\', \\'gender\\': 0, \\'id\\': 1881602, \\'job\\': \\'Key Grip\\', \\'name\\': \\'Chris Ekstrom\\', \\'profile_path\\': None}, {\\'credit_id\\': \\'59ac0d54925141072f02d5e6\\', \\'department\\': \\'Lighting\\', \\'gender\\': 0, \\'id\\': 1484984, \\'job\\': \\'Best Boy Electric\\', \\'name\\': \\'Brad Garris\\', \\'profile_path\\': None}, {\\'credit_id\\': \\'59ac0db0925141078a02df86\\', \\'department\\': \\'Camera\\', \\'gender\\': 0, \\'id\\': 1881603, \\'job\\': \\'Dolly Grip\\', \\'name\\': \\'Kendell Joseph\\', \\'profile_path\\': None}, {\\'credit_id\\': \\'59ac0e5a925141077e02d39f\\', \\'department\\': \\'Camera\\', \\'gender\\': 0, \\'id\\': 1549179, \\'job\\': \\'Dolly Grip\\', \\'name\\': \\'Spencer Wilcox\\', \\'profile_path\\': None}, {\\'credit_id\\': \\'59ac0e9f925141079d02bee6\\', \\'department\\': \\'Costume & Make-Up\\', \\'gender\\': 0, \\'id\\': 1552626, \\'job\\': \\'Key Costumer\\', \\'name\\': \\'Sarah P. Koeppe\\', \\'profile_path\\': None}, {\\'credit_id\\': \\'59ac0ec1c3a3682bf0029524\\', \\'department\\': \\'Costume & Make-Up\\', \\'gender\\': 0, \\'id\\': 1881605, \\'job\\': \\'Seamstress\\', \\'name\\': \\'Catherine Rodi\\', \\'profile_path\\': None}, {\\'credit_id\\': \\'59ac0eef925141070702c7ff\\', \\'department\\': \\'Costume & Make-Up\\', \\'gender\\': 0, \\'id\\': 1463801, \\'job\\': \\'Seamstress\\', \\'name\\': \\'Giselle Spence\\', \\'profile_path\\': None}, {\\'credit_id\\': \\'59ac0f5dc3a3682c4802a0f5\\', \\'department\\': \\'Production\\', \\'gender\\': 0, \\'id\\': 1400837, \\'job\\': \\'Location Manager\\', \\'name\\': \\'John A. Johnston\\', \\'profile_path\\': None}, {\\'credit_id\\': \\'59ac0ff2c3a3682c4802a196\\', \\'department\\': \\'Crew\\', \\'gender\\': 0, \\'id\\': 1844322, \\'job\\': \\'Production Controller\\', \\'name\\': \\'Gail Marks\\', \\'profile_path\\': None}]'"
            ]
          },
          "metadata": {},
          "execution_count": 39
        }
      ]
    },
    {
      "cell_type": "code",
      "source": [
        "type(df.loc[0,'crew'])"
      ],
      "metadata": {
        "colab": {
          "base_uri": "https://localhost:8080/"
        },
        "id": "TmBrsSw1E7lt",
        "outputId": "892c63be-3110-4370-df19-cd60776818fe"
      },
      "execution_count": 40,
      "outputs": [
        {
          "output_type": "execute_result",
          "data": {
            "text/plain": [
              "str"
            ]
          },
          "metadata": {},
          "execution_count": 40
        }
      ]
    },
    {
      "cell_type": "markdown",
      "source": [
        "EVAL FUNCTION"
      ],
      "metadata": {
        "id": "gNifnTaxFLYO"
      }
    },
    {
      "cell_type": "code",
      "source": [
        "crew_list=eval(df.loc[0,'crew'])"
      ],
      "metadata": {
        "id": "cvw5h7TXFKM0"
      },
      "execution_count": 41,
      "outputs": []
    },
    {
      "cell_type": "code",
      "source": [
        "from ast import literal_eval\n",
        "\n",
        "literal_eval(df.loc[0,'crew'])\n"
      ],
      "metadata": {
        "colab": {
          "base_uri": "https://localhost:8080/"
        },
        "id": "z0XA5QrmFnL5",
        "outputId": "df6add0c-3478-4b20-e56a-16b1159c1b7a"
      },
      "execution_count": 42,
      "outputs": [
        {
          "output_type": "execute_result",
          "data": {
            "text/plain": [
              "[{'credit_id': '59ac067c92514107af02c8c8',\n",
              "  'department': 'Directing',\n",
              "  'gender': 0,\n",
              "  'id': 1449071,\n",
              "  'job': 'First Assistant Director',\n",
              "  'name': 'Kelly Cantley',\n",
              "  'profile_path': None},\n",
              " {'credit_id': '52fe4ee7c3a36847f82afad7',\n",
              "  'department': 'Directing',\n",
              "  'gender': 2,\n",
              "  'id': 3227,\n",
              "  'job': 'Director',\n",
              "  'name': 'Steve Pink',\n",
              "  'profile_path': '/myHOgo8mQSCiCAZNGMRdHVr03jr.jpg'},\n",
              " {'credit_id': '5524ed25c3a3687ded000d88',\n",
              "  'department': 'Writing',\n",
              "  'gender': 2,\n",
              "  'id': 347335,\n",
              "  'job': 'Writer',\n",
              "  'name': 'Josh Heald',\n",
              "  'profile_path': '/pwXJIenrDMrG7t3zNfLvr8w1RGU.jpg'},\n",
              " {'credit_id': '5524ed2d925141720c001128',\n",
              "  'department': 'Writing',\n",
              "  'gender': 2,\n",
              "  'id': 347335,\n",
              "  'job': 'Characters',\n",
              "  'name': 'Josh Heald',\n",
              "  'profile_path': '/pwXJIenrDMrG7t3zNfLvr8w1RGU.jpg'},\n",
              " {'credit_id': '5524ed3d92514166c1004a5d',\n",
              "  'department': 'Production',\n",
              "  'gender': 2,\n",
              "  'id': 57822,\n",
              "  'job': 'Producer',\n",
              "  'name': 'Andrew Panay',\n",
              "  'profile_path': None},\n",
              " {'credit_id': '5524ed4bc3a3687df3000dd2',\n",
              "  'department': 'Production',\n",
              "  'gender': 0,\n",
              "  'id': 1451395,\n",
              "  'job': 'Associate Producer',\n",
              "  'name': 'Adam Blum',\n",
              "  'profile_path': None},\n",
              " {'credit_id': '5524ed5a925141720c00112c',\n",
              "  'department': 'Production',\n",
              "  'gender': 2,\n",
              "  'id': 52997,\n",
              "  'job': 'Executive Producer',\n",
              "  'name': 'Rob Corddry',\n",
              "  'profile_path': '/k2zJL0V1nEZuFT08xUdOd3ucfXz.jpg'},\n",
              " {'credit_id': '5524ed85c3a3687e0e000f56',\n",
              "  'department': 'Production',\n",
              "  'gender': 0,\n",
              "  'id': 62807,\n",
              "  'job': 'Executive Producer',\n",
              "  'name': 'Ben Ormand',\n",
              "  'profile_path': None},\n",
              " {'credit_id': '5524ed9fc3a3687e0e000f59',\n",
              "  'department': 'Sound',\n",
              "  'gender': 2,\n",
              "  'id': 23486,\n",
              "  'job': 'Original Music Composer',\n",
              "  'name': 'Christophe Beck',\n",
              "  'profile_path': '/2fnJUmCk6IEpVIptpYaUk31epHx.jpg'},\n",
              " {'credit_id': '5524eda6c3a3687e03000d28',\n",
              "  'department': 'Camera',\n",
              "  'gender': 2,\n",
              "  'id': 6117,\n",
              "  'job': 'Director of Photography',\n",
              "  'name': 'Declan Quinn',\n",
              "  'profile_path': None},\n",
              " {'credit_id': '5524edb4925141720c00113d',\n",
              "  'department': 'Editing',\n",
              "  'gender': 0,\n",
              "  'id': 1451396,\n",
              "  'job': 'Editor',\n",
              "  'name': 'Jamie Gross',\n",
              "  'profile_path': None},\n",
              " {'credit_id': '5524edc1925141727600102e',\n",
              "  'department': 'Production',\n",
              "  'gender': 0,\n",
              "  'id': 22219,\n",
              "  'job': 'Casting',\n",
              "  'name': 'Susie Farris',\n",
              "  'profile_path': None},\n",
              " {'credit_id': '5524edd192514171cb008257',\n",
              "  'department': 'Art',\n",
              "  'gender': 0,\n",
              "  'id': 1002643,\n",
              "  'job': 'Production Design',\n",
              "  'name': 'Ryan Berg',\n",
              "  'profile_path': None},\n",
              " {'credit_id': '555ad9be9251411e5b00d485',\n",
              "  'department': 'Production',\n",
              "  'gender': 2,\n",
              "  'id': 57431,\n",
              "  'job': 'Executive Producer',\n",
              "  'name': 'Matt Moore',\n",
              "  'profile_path': None},\n",
              " {'credit_id': '5677e93bc3a36816890087dc',\n",
              "  'department': 'Directing',\n",
              "  'gender': 0,\n",
              "  'id': 1551818,\n",
              "  'job': 'Script Supervisor',\n",
              "  'name': 'Nicole Garcea',\n",
              "  'profile_path': None},\n",
              " {'credit_id': '5677e96a92514179e10093d0',\n",
              "  'department': 'Production',\n",
              "  'gender': 0,\n",
              "  'id': 1551819,\n",
              "  'job': 'Production Coordinator',\n",
              "  'name': 'Jason Salzman',\n",
              "  'profile_path': None},\n",
              " {'credit_id': '5677e98492514179d2008cd9',\n",
              "  'department': 'Costume & Make-Up',\n",
              "  'gender': 0,\n",
              "  'id': 1422996,\n",
              "  'job': 'Costume Design',\n",
              "  'name': 'Carol Cutshall',\n",
              "  'profile_path': None},\n",
              " {'credit_id': '5677e9d5c3a368168e009414',\n",
              "  'department': 'Art',\n",
              "  'gender': 2,\n",
              "  'id': 500199,\n",
              "  'job': 'Set Decoration',\n",
              "  'name': 'Tim Cohn',\n",
              "  'profile_path': None},\n",
              " {'credit_id': '5677f89d9251417845001a61',\n",
              "  'department': 'Costume & Make-Up',\n",
              "  'gender': 0,\n",
              "  'id': 1527917,\n",
              "  'job': 'Hair Department Head',\n",
              "  'name': 'Voni Hinkle',\n",
              "  'profile_path': None},\n",
              " {'credit_id': '5677f8b392514179dd0089fb',\n",
              "  'department': 'Costume & Make-Up',\n",
              "  'gender': 0,\n",
              "  'id': 1431554,\n",
              "  'job': 'Makeup Department Head',\n",
              "  'name': 'Remi Savva',\n",
              "  'profile_path': None},\n",
              " {'credit_id': '5677f8d1c3a3681689008a4b',\n",
              "  'department': 'Art',\n",
              "  'gender': 0,\n",
              "  'id': 66495,\n",
              "  'job': 'Art Direction',\n",
              "  'name': 'Jason Baldwin Stewart',\n",
              "  'profile_path': None},\n",
              " {'credit_id': '5677f8eec3a3681685008dd5',\n",
              "  'department': 'Production',\n",
              "  'gender': 0,\n",
              "  'id': 1412466,\n",
              "  'job': 'Production Supervisor',\n",
              "  'name': 'Korey Budd',\n",
              "  'profile_path': None},\n",
              " {'credit_id': '5677f90a9251417845001a7d',\n",
              "  'department': 'Sound',\n",
              "  'gender': 0,\n",
              "  'id': 1401562,\n",
              "  'job': 'Sound Re-Recording Mixer',\n",
              "  'name': 'Gary C. Bourgeois',\n",
              "  'profile_path': None},\n",
              " {'credit_id': '5677f91e9251417845001a84',\n",
              "  'department': 'Sound',\n",
              "  'gender': 0,\n",
              "  'id': 1396794,\n",
              "  'job': 'Sound Re-Recording Mixer',\n",
              "  'name': 'Gabriel J. Serrano',\n",
              "  'profile_path': None},\n",
              " {'credit_id': '5677f938c3a3681680008dd4',\n",
              "  'department': 'Editing',\n",
              "  'gender': 0,\n",
              "  'id': 13168,\n",
              "  'job': 'Dialogue Editor',\n",
              "  'name': 'Victoria Rose Sampson',\n",
              "  'profile_path': None},\n",
              " {'credit_id': '5677f94e92514179dd008a1f',\n",
              "  'department': 'Sound',\n",
              "  'gender': 0,\n",
              "  'id': 1551839,\n",
              "  'job': 'Production Sound Mixer',\n",
              "  'name': 'Michael B. Koff',\n",
              "  'profile_path': None},\n",
              " {'credit_id': '5677f968c3a368168e009698',\n",
              "  'department': 'Sound',\n",
              "  'gender': 0,\n",
              "  'id': 113052,\n",
              "  'job': 'Sound Effects Editor',\n",
              "  'name': 'Randall Guth',\n",
              "  'profile_path': None},\n",
              " {'credit_id': '5677f98dc3a3681685008e02',\n",
              "  'department': 'Crew',\n",
              "  'gender': 2,\n",
              "  'id': 1442535,\n",
              "  'job': 'Stunt Coordinator',\n",
              "  'name': 'Chuck Picerni Jr.',\n",
              "  'profile_path': '/yE5QtXUzcrnCzMRctZL8F5g842B.jpg'},\n",
              " {'credit_id': '5677f9a692514179dd008a49',\n",
              "  'department': 'Camera',\n",
              "  'gender': 0,\n",
              "  'id': 1437305,\n",
              "  'job': 'Camera Operator',\n",
              "  'name': 'Michael Applebaum',\n",
              "  'profile_path': None},\n",
              " {'credit_id': '5677f9bd9251417845001aae',\n",
              "  'department': 'Camera',\n",
              "  'gender': 0,\n",
              "  'id': 1401765,\n",
              "  'job': 'Still Photographer',\n",
              "  'name': 'Steve Dietl',\n",
              "  'profile_path': None},\n",
              " {'credit_id': '5677f9e592514179e7008bf7',\n",
              "  'department': 'Lighting',\n",
              "  'gender': 0,\n",
              "  'id': 1402721,\n",
              "  'job': 'Rigging Gaffer',\n",
              "  'name': 'Tarik Naim Alherimi',\n",
              "  'profile_path': None},\n",
              " {'credit_id': '5677f9f4c3a368167c0090ed',\n",
              "  'department': 'Lighting',\n",
              "  'gender': 0,\n",
              "  'id': 1402719,\n",
              "  'job': 'Gaffer',\n",
              "  'name': 'Paul Olinde',\n",
              "  'profile_path': None},\n",
              " {'credit_id': '5677fa21c3a368168e0096ca',\n",
              "  'department': 'Sound',\n",
              "  'gender': 0,\n",
              "  'id': 1551840,\n",
              "  'job': 'Music Supervisor',\n",
              "  'name': 'Steve Griffen',\n",
              "  'profile_path': None},\n",
              " {'credit_id': '5677fa31c3a3681680008e04',\n",
              "  'department': 'Sound',\n",
              "  'gender': 0,\n",
              "  'id': 1551841,\n",
              "  'job': 'Music Editor',\n",
              "  'name': 'Matt Fausak',\n",
              "  'profile_path': None},\n",
              " {'credit_id': '5677fa4392514179dd008a76',\n",
              "  'department': 'Sound',\n",
              "  'gender': 0,\n",
              "  'id': 1551840,\n",
              "  'job': 'Music Editor',\n",
              "  'name': 'Steve Griffen',\n",
              "  'profile_path': None},\n",
              " {'credit_id': '5677fa609251417845001acf',\n",
              "  'department': 'Costume & Make-Up',\n",
              "  'gender': 0,\n",
              "  'id': 1403416,\n",
              "  'job': 'Costume Supervisor',\n",
              "  'name': 'Shonta T. McCray',\n",
              "  'profile_path': None},\n",
              " {'credit_id': '5677fa8492514179d2008fb3',\n",
              "  'department': 'Camera',\n",
              "  'gender': 0,\n",
              "  'id': 1425831,\n",
              "  'job': 'Steadicam Operator',\n",
              "  'name': 'Mark Karavite',\n",
              "  'profile_path': None},\n",
              " {'credit_id': '5677fab2c3a3681689008ac3',\n",
              "  'department': 'Camera',\n",
              "  'gender': 0,\n",
              "  'id': 1551842,\n",
              "  'job': 'First Assistant Camera',\n",
              "  'name': 'Joe Waistell',\n",
              "  'profile_path': None},\n",
              " {'credit_id': '5677faecc3a368168e0096fe',\n",
              "  'department': 'Sound',\n",
              "  'gender': 0,\n",
              "  'id': 58362,\n",
              "  'job': 'Supervising Sound Editor',\n",
              "  'name': 'Michael Hilkene',\n",
              "  'profile_path': None},\n",
              " {'credit_id': '59ac0368c3a3682c0a02c484',\n",
              "  'department': 'Crew',\n",
              "  'gender': 0,\n",
              "  'id': 1881584,\n",
              "  'job': 'Additional Writing',\n",
              "  'name': 'John Karnay',\n",
              "  'profile_path': None},\n",
              " {'credit_id': '59ac0411c3a3682bf0028966',\n",
              "  'department': 'Costume & Make-Up',\n",
              "  'gender': 0,\n",
              "  'id': 1431552,\n",
              "  'job': 'Hairstylist',\n",
              "  'name': 'Daina Daigle',\n",
              "  'profile_path': None},\n",
              " {'credit_id': '59ac0504925141072302b8fb',\n",
              "  'department': 'Costume & Make-Up',\n",
              "  'gender': 0,\n",
              "  'id': 1712001,\n",
              "  'job': 'Makeup Artist',\n",
              "  'name': 'Allison Gordin',\n",
              "  'profile_path': None},\n",
              " {'credit_id': '59ac0570c3a3682bf0028aac',\n",
              "  'department': 'Costume & Make-Up',\n",
              "  'gender': 0,\n",
              "  'id': 578725,\n",
              "  'job': 'Makeup Artist',\n",
              "  'name': 'Darryl Lucas',\n",
              "  'profile_path': None},\n",
              " {'credit_id': '59ac05a4925141077e02c97e',\n",
              "  'department': 'Costume & Make-Up',\n",
              "  'gender': 0,\n",
              "  'id': 1463274,\n",
              "  'job': 'Makeup Artist',\n",
              "  'name': 'Annabelle MacNeal',\n",
              "  'profile_path': None},\n",
              " {'credit_id': '59ac05c6925141076502d106',\n",
              "  'department': 'Costume & Make-Up',\n",
              "  'gender': 0,\n",
              "  'id': 1881586,\n",
              "  'job': 'Makeup Artist',\n",
              "  'name': 'Marina Savva',\n",
              "  'profile_path': None},\n",
              " {'credit_id': '59ac0615c3a3682c480296aa',\n",
              "  'department': 'Costume & Make-Up',\n",
              "  'gender': 0,\n",
              "  'id': 1406267,\n",
              "  'job': 'Hairstylist',\n",
              "  'name': 'Carl G. Variste',\n",
              "  'profile_path': None},\n",
              " {'credit_id': '59ac06ba925141076502d1fa',\n",
              "  'department': 'Directing',\n",
              "  'gender': 0,\n",
              "  'id': 1798593,\n",
              "  'job': 'First Assistant Director',\n",
              "  'name': 'Josh King',\n",
              "  'profile_path': None},\n",
              " {'credit_id': '59ac06f1c3a3682c2202aca0',\n",
              "  'department': 'Art',\n",
              "  'gender': 0,\n",
              "  'id': 1415083,\n",
              "  'job': 'Greensman',\n",
              "  'name': 'Scott C. Bivona',\n",
              "  'profile_path': None},\n",
              " {'credit_id': '59ac072c925141076502d260',\n",
              "  'department': 'Art',\n",
              "  'gender': 0,\n",
              "  'id': 1881587,\n",
              "  'job': 'Title Designer',\n",
              "  'name': 'Eunha Choi',\n",
              "  'profile_path': None},\n",
              " {'credit_id': '59ac077c925141077e02cb62',\n",
              "  'department': 'Art',\n",
              "  'gender': 0,\n",
              "  'id': 1585302,\n",
              "  'job': 'Construction Coordinator',\n",
              "  'name': 'Daniel Coe',\n",
              "  'profile_path': None},\n",
              " {'credit_id': '59ac07e0925141078a02d842',\n",
              "  'department': 'Art',\n",
              "  'gender': 0,\n",
              "  'id': 1495523,\n",
              "  'job': 'Set Designer',\n",
              "  'name': 'Spencer Davison',\n",
              "  'profile_path': None},\n",
              " {'credit_id': '59ac0862925141072f02cf6f',\n",
              "  'department': 'Art',\n",
              "  'gender': 0,\n",
              "  'id': 1881589,\n",
              "  'job': 'Painter',\n",
              "  'name': 'Sonia L. Garcia',\n",
              "  'profile_path': None},\n",
              " {'credit_id': '59ac08e0c3a3682bf0028e51',\n",
              "  'department': 'Art',\n",
              "  'gender': 0,\n",
              "  'id': 1424896,\n",
              "  'job': 'Art Department Coordinator',\n",
              "  'name': 'Caleb Guillotte',\n",
              "  'profile_path': None},\n",
              " {'credit_id': '59ac0920c3a3682c2202af36',\n",
              "  'department': 'Art',\n",
              "  'gender': 0,\n",
              "  'id': 1393375,\n",
              "  'job': 'Leadman',\n",
              "  'name': \"Pat A. O'Connor\",\n",
              "  'profile_path': None},\n",
              " {'credit_id': '59ac095592514107af02cc39',\n",
              "  'department': 'Art',\n",
              "  'gender': 0,\n",
              "  'id': 1881592,\n",
              "  'job': 'Set Designer',\n",
              "  'name': 'Brendan Turrill',\n",
              "  'profile_path': None},\n",
              " {'credit_id': '59ac0989925141072302bdfa',\n",
              "  'department': 'Art',\n",
              "  'gender': 2,\n",
              "  'id': 76497,\n",
              "  'job': 'Property Master',\n",
              "  'name': 'Brook Yeaton',\n",
              "  'profile_path': None},\n",
              " {'credit_id': '59ac0a2cc3a3682c9c02add1',\n",
              "  'department': 'Sound',\n",
              "  'gender': 0,\n",
              "  'id': 1881596,\n",
              "  'job': 'Boom Operator',\n",
              "  'name': 'Matthew Armstrong',\n",
              "  'profile_path': None},\n",
              " {'credit_id': '59ac0aa8925141072f02d282',\n",
              "  'department': 'Visual Effects',\n",
              "  'gender': 2,\n",
              "  'id': 1558086,\n",
              "  'job': 'Special Effects Supervisor',\n",
              "  'name': 'Matt Kutcher',\n",
              "  'profile_path': None},\n",
              " {'credit_id': '59ac0b2ac3a3682c2202b192',\n",
              "  'department': 'Crew',\n",
              "  'gender': 2,\n",
              "  'id': 1558087,\n",
              "  'job': 'Special Effects Coordinator',\n",
              "  'name': 'Eric Roberts',\n",
              "  'profile_path': None},\n",
              " {'credit_id': '59ac0b7ac3a3682c2202b1fb',\n",
              "  'department': 'Visual Effects',\n",
              "  'gender': 0,\n",
              "  'id': 1392098,\n",
              "  'job': 'Visual Effects Supervisor',\n",
              "  'name': 'Rocco Passionino',\n",
              "  'profile_path': None},\n",
              " {'credit_id': '59ac0bbe925141077e02d0c4',\n",
              "  'department': 'Visual Effects',\n",
              "  'gender': 0,\n",
              "  'id': 1558716,\n",
              "  'job': 'Visual Effects Coordinator',\n",
              "  'name': 'Joseph Payo',\n",
              "  'profile_path': None},\n",
              " {'credit_id': '59ac0bf2c3a3682cc802cefa',\n",
              "  'department': 'Visual Effects',\n",
              "  'gender': 0,\n",
              "  'id': 1408784,\n",
              "  'job': 'Visual Effects Producer',\n",
              "  'name': 'Chris Roff',\n",
              "  'profile_path': None},\n",
              " {'credit_id': '59ac0c51c3a3682c48029d99',\n",
              "  'department': 'Lighting',\n",
              "  'gender': 0,\n",
              "  'id': 1881600,\n",
              "  'job': 'Best Boy Electric',\n",
              "  'name': 'Ulyan Atamanyuk',\n",
              "  'profile_path': None},\n",
              " {'credit_id': '59ac0cbac3a3682c0a02cff6',\n",
              "  'department': 'Camera',\n",
              "  'gender': 0,\n",
              "  'id': 1881602,\n",
              "  'job': 'Key Grip',\n",
              "  'name': 'Chris Ekstrom',\n",
              "  'profile_path': None},\n",
              " {'credit_id': '59ac0d54925141072f02d5e6',\n",
              "  'department': 'Lighting',\n",
              "  'gender': 0,\n",
              "  'id': 1484984,\n",
              "  'job': 'Best Boy Electric',\n",
              "  'name': 'Brad Garris',\n",
              "  'profile_path': None},\n",
              " {'credit_id': '59ac0db0925141078a02df86',\n",
              "  'department': 'Camera',\n",
              "  'gender': 0,\n",
              "  'id': 1881603,\n",
              "  'job': 'Dolly Grip',\n",
              "  'name': 'Kendell Joseph',\n",
              "  'profile_path': None},\n",
              " {'credit_id': '59ac0e5a925141077e02d39f',\n",
              "  'department': 'Camera',\n",
              "  'gender': 0,\n",
              "  'id': 1549179,\n",
              "  'job': 'Dolly Grip',\n",
              "  'name': 'Spencer Wilcox',\n",
              "  'profile_path': None},\n",
              " {'credit_id': '59ac0e9f925141079d02bee6',\n",
              "  'department': 'Costume & Make-Up',\n",
              "  'gender': 0,\n",
              "  'id': 1552626,\n",
              "  'job': 'Key Costumer',\n",
              "  'name': 'Sarah P. Koeppe',\n",
              "  'profile_path': None},\n",
              " {'credit_id': '59ac0ec1c3a3682bf0029524',\n",
              "  'department': 'Costume & Make-Up',\n",
              "  'gender': 0,\n",
              "  'id': 1881605,\n",
              "  'job': 'Seamstress',\n",
              "  'name': 'Catherine Rodi',\n",
              "  'profile_path': None},\n",
              " {'credit_id': '59ac0eef925141070702c7ff',\n",
              "  'department': 'Costume & Make-Up',\n",
              "  'gender': 0,\n",
              "  'id': 1463801,\n",
              "  'job': 'Seamstress',\n",
              "  'name': 'Giselle Spence',\n",
              "  'profile_path': None},\n",
              " {'credit_id': '59ac0f5dc3a3682c4802a0f5',\n",
              "  'department': 'Production',\n",
              "  'gender': 0,\n",
              "  'id': 1400837,\n",
              "  'job': 'Location Manager',\n",
              "  'name': 'John A. Johnston',\n",
              "  'profile_path': None},\n",
              " {'credit_id': '59ac0ff2c3a3682c4802a196',\n",
              "  'department': 'Crew',\n",
              "  'gender': 0,\n",
              "  'id': 1844322,\n",
              "  'job': 'Production Controller',\n",
              "  'name': 'Gail Marks',\n",
              "  'profile_path': None}]"
            ]
          },
          "metadata": {},
          "execution_count": 42
        }
      ]
    },
    {
      "cell_type": "code",
      "source": [
        "literal_eval(df.loc[0,'genres'])"
      ],
      "metadata": {
        "colab": {
          "base_uri": "https://localhost:8080/"
        },
        "id": "DG4WjdOlGYo0",
        "outputId": "02b45468-7243-4e96-828b-6a3fc0e32e67"
      },
      "execution_count": 43,
      "outputs": [
        {
          "output_type": "execute_result",
          "data": {
            "text/plain": [
              "[{'id': 35, 'name': 'Comedy'}]"
            ]
          },
          "metadata": {},
          "execution_count": 43
        }
      ]
    },
    {
      "cell_type": "markdown",
      "source": [
        "##CONVERTING THE STRING VALUES TO PROPER LISTS"
      ],
      "metadata": {
        "id": "_qiRPpWaIFAa"
      }
    },
    {
      "cell_type": "code",
      "source": [
        "df.columns"
      ],
      "metadata": {
        "colab": {
          "base_uri": "https://localhost:8080/"
        },
        "id": "M3e6DGmsO1tO",
        "outputId": "f5b9ccdf-cd2b-4b5f-9299-09c4746193a2"
      },
      "execution_count": 46,
      "outputs": [
        {
          "output_type": "execute_result",
          "data": {
            "text/plain": [
              "Index(['id', 'belongs_to_collection', 'budget', 'genres', 'homepage',\n",
              "       'imdb_id', 'original_language', 'original_title', 'overview',\n",
              "       'popularity', 'poster_path', 'production_companies',\n",
              "       'production_countries', 'release_date', 'runtime', 'spoken_languages',\n",
              "       'status', 'tagline', 'title', 'Keywords', 'cast', 'crew', 'revenue'],\n",
              "      dtype='object')"
            ]
          },
          "metadata": {},
          "execution_count": 46
        }
      ]
    },
    {
      "cell_type": "code",
      "source": [
        "columns_to_keep=['budget','genres','imdb_id','original_title','original_language','revenue','cast','crew']"
      ],
      "metadata": {
        "id": "gpXENe02SHWj"
      },
      "execution_count": 47,
      "outputs": []
    },
    {
      "cell_type": "code",
      "source": [
        "df=df[columns_to_keep]"
      ],
      "metadata": {
        "id": "Jx0gJmBWTOlZ"
      },
      "execution_count": 48,
      "outputs": []
    },
    {
      "cell_type": "code",
      "source": [
        "df.info()"
      ],
      "metadata": {
        "colab": {
          "base_uri": "https://localhost:8080/"
        },
        "id": "71axWqJOTY3z",
        "outputId": "3c640fc3-7122-4869-de57-d58bb9ad7e1d"
      },
      "execution_count": 50,
      "outputs": [
        {
          "output_type": "stream",
          "name": "stdout",
          "text": [
            "<class 'pandas.core.frame.DataFrame'>\n",
            "RangeIndex: 3000 entries, 0 to 2999\n",
            "Data columns (total 8 columns):\n",
            " #   Column             Non-Null Count  Dtype \n",
            "---  ------             --------------  ----- \n",
            " 0   budget             3000 non-null   int64 \n",
            " 1   genres             2993 non-null   object\n",
            " 2   imdb_id            3000 non-null   object\n",
            " 3   original_title     3000 non-null   object\n",
            " 4   original_language  3000 non-null   object\n",
            " 5   revenue            3000 non-null   int64 \n",
            " 6   cast               2987 non-null   object\n",
            " 7   crew               2984 non-null   object\n",
            "dtypes: int64(2), object(6)\n",
            "memory usage: 187.6+ KB\n"
          ]
        }
      ]
    },
    {
      "cell_type": "code",
      "source": [
        "# DROP THE NULL OBSERVATIONS\n",
        "df_non_null=df.dropna()"
      ],
      "metadata": {
        "id": "uPGsdoZCTdiK"
      },
      "execution_count": 52,
      "outputs": []
    },
    {
      "cell_type": "code",
      "source": [
        "df_non_null.shape"
      ],
      "metadata": {
        "colab": {
          "base_uri": "https://localhost:8080/"
        },
        "id": "CsO0Z_QdT6Hz",
        "outputId": "0f54ec5b-c41f-4f3c-868b-6c44b6b9a49d"
      },
      "execution_count": 55,
      "outputs": [
        {
          "output_type": "execute_result",
          "data": {
            "text/plain": [
              "(2978, 8)"
            ]
          },
          "metadata": {},
          "execution_count": 55
        }
      ]
    },
    {
      "cell_type": "code",
      "source": [
        "df_non_null.info()"
      ],
      "metadata": {
        "colab": {
          "base_uri": "https://localhost:8080/"
        },
        "id": "tFTt2n8cT_bL",
        "outputId": "f95c333c-bacc-4c67-e5e4-095b8e95fd7a"
      },
      "execution_count": 56,
      "outputs": [
        {
          "output_type": "stream",
          "name": "stdout",
          "text": [
            "<class 'pandas.core.frame.DataFrame'>\n",
            "Int64Index: 2978 entries, 0 to 2999\n",
            "Data columns (total 8 columns):\n",
            " #   Column             Non-Null Count  Dtype \n",
            "---  ------             --------------  ----- \n",
            " 0   budget             2978 non-null   int64 \n",
            " 1   genres             2978 non-null   object\n",
            " 2   imdb_id            2978 non-null   object\n",
            " 3   original_title     2978 non-null   object\n",
            " 4   original_language  2978 non-null   object\n",
            " 5   revenue            2978 non-null   int64 \n",
            " 6   cast               2978 non-null   object\n",
            " 7   crew               2978 non-null   object\n",
            "dtypes: int64(2), object(6)\n",
            "memory usage: 209.4+ KB\n"
          ]
        }
      ]
    },
    {
      "cell_type": "code",
      "source": [
        "def string_to_list(str):\n",
        "  literal_eval(str)\n"
      ],
      "metadata": {
        "id": "pSc2ke5vHjYd"
      },
      "execution_count": 44,
      "outputs": []
    },
    {
      "cell_type": "code",
      "source": [
        "for i in df[['genres','cast','crew']]:\n",
        "  string_to_list(str)\n",
        "  "
      ],
      "metadata": {
        "colab": {
          "base_uri": "https://localhost:8080/",
          "height": 346
        },
        "id": "BiUa0mjbH7Nh",
        "outputId": "cd8b4f20-12a9-40fe-a199-93d86e2ef05d"
      },
      "execution_count": 45,
      "outputs": [
        {
          "output_type": "error",
          "ename": "ValueError",
          "evalue": "ignored",
          "traceback": [
            "\u001b[0;31m---------------------------------------------------------------------------\u001b[0m",
            "\u001b[0;31mValueError\u001b[0m                                Traceback (most recent call last)",
            "\u001b[0;32m<ipython-input-45-ccd05b2592eb>\u001b[0m in \u001b[0;36m<module>\u001b[0;34m()\u001b[0m\n\u001b[1;32m      1\u001b[0m \u001b[0;32mfor\u001b[0m \u001b[0mi\u001b[0m \u001b[0;32min\u001b[0m \u001b[0mdf\u001b[0m\u001b[0;34m[\u001b[0m\u001b[0;34m[\u001b[0m\u001b[0;34m'genres'\u001b[0m\u001b[0;34m,\u001b[0m\u001b[0;34m'cast'\u001b[0m\u001b[0;34m,\u001b[0m\u001b[0;34m'crew'\u001b[0m\u001b[0;34m]\u001b[0m\u001b[0;34m]\u001b[0m\u001b[0;34m:\u001b[0m\u001b[0;34m\u001b[0m\u001b[0;34m\u001b[0m\u001b[0m\n\u001b[0;32m----> 2\u001b[0;31m   \u001b[0mstring_to_list\u001b[0m\u001b[0;34m(\u001b[0m\u001b[0mstr\u001b[0m\u001b[0;34m)\u001b[0m\u001b[0;34m\u001b[0m\u001b[0;34m\u001b[0m\u001b[0m\n\u001b[0m\u001b[1;32m      3\u001b[0m \u001b[0;34m\u001b[0m\u001b[0m\n",
            "\u001b[0;32m<ipython-input-44-96d51a9a647a>\u001b[0m in \u001b[0;36mstring_to_list\u001b[0;34m(str)\u001b[0m\n\u001b[1;32m      1\u001b[0m \u001b[0;32mdef\u001b[0m \u001b[0mstring_to_list\u001b[0m\u001b[0;34m(\u001b[0m\u001b[0mstr\u001b[0m\u001b[0;34m)\u001b[0m\u001b[0;34m:\u001b[0m\u001b[0;34m\u001b[0m\u001b[0;34m\u001b[0m\u001b[0m\n\u001b[0;32m----> 2\u001b[0;31m   \u001b[0mliteral_eval\u001b[0m\u001b[0;34m(\u001b[0m\u001b[0mstr\u001b[0m\u001b[0;34m)\u001b[0m\u001b[0;34m\u001b[0m\u001b[0;34m\u001b[0m\u001b[0m\n\u001b[0m",
            "\u001b[0;32m/usr/lib/python3.7/ast.py\u001b[0m in \u001b[0;36mliteral_eval\u001b[0;34m(node_or_string)\u001b[0m\n\u001b[1;32m     89\u001b[0m                     \u001b[0;32mreturn\u001b[0m \u001b[0mleft\u001b[0m \u001b[0;34m-\u001b[0m \u001b[0mright\u001b[0m\u001b[0;34m\u001b[0m\u001b[0;34m\u001b[0m\u001b[0m\n\u001b[1;32m     90\u001b[0m         \u001b[0;32mreturn\u001b[0m \u001b[0m_convert_signed_num\u001b[0m\u001b[0;34m(\u001b[0m\u001b[0mnode\u001b[0m\u001b[0;34m)\u001b[0m\u001b[0;34m\u001b[0m\u001b[0;34m\u001b[0m\u001b[0m\n\u001b[0;32m---> 91\u001b[0;31m     \u001b[0;32mreturn\u001b[0m \u001b[0m_convert\u001b[0m\u001b[0;34m(\u001b[0m\u001b[0mnode_or_string\u001b[0m\u001b[0;34m)\u001b[0m\u001b[0;34m\u001b[0m\u001b[0;34m\u001b[0m\u001b[0m\n\u001b[0m\u001b[1;32m     92\u001b[0m \u001b[0;34m\u001b[0m\u001b[0m\n\u001b[1;32m     93\u001b[0m \u001b[0;34m\u001b[0m\u001b[0m\n",
            "\u001b[0;32m/usr/lib/python3.7/ast.py\u001b[0m in \u001b[0;36m_convert\u001b[0;34m(node)\u001b[0m\n\u001b[1;32m     88\u001b[0m                 \u001b[0;32melse\u001b[0m\u001b[0;34m:\u001b[0m\u001b[0;34m\u001b[0m\u001b[0;34m\u001b[0m\u001b[0m\n\u001b[1;32m     89\u001b[0m                     \u001b[0;32mreturn\u001b[0m \u001b[0mleft\u001b[0m \u001b[0;34m-\u001b[0m \u001b[0mright\u001b[0m\u001b[0;34m\u001b[0m\u001b[0;34m\u001b[0m\u001b[0m\n\u001b[0;32m---> 90\u001b[0;31m         \u001b[0;32mreturn\u001b[0m \u001b[0m_convert_signed_num\u001b[0m\u001b[0;34m(\u001b[0m\u001b[0mnode\u001b[0m\u001b[0;34m)\u001b[0m\u001b[0;34m\u001b[0m\u001b[0;34m\u001b[0m\u001b[0m\n\u001b[0m\u001b[1;32m     91\u001b[0m     \u001b[0;32mreturn\u001b[0m \u001b[0m_convert\u001b[0m\u001b[0;34m(\u001b[0m\u001b[0mnode_or_string\u001b[0m\u001b[0;34m)\u001b[0m\u001b[0;34m\u001b[0m\u001b[0;34m\u001b[0m\u001b[0m\n\u001b[1;32m     92\u001b[0m \u001b[0;34m\u001b[0m\u001b[0m\n",
            "\u001b[0;32m/usr/lib/python3.7/ast.py\u001b[0m in \u001b[0;36m_convert_signed_num\u001b[0;34m(node)\u001b[0m\n\u001b[1;32m     61\u001b[0m             \u001b[0;32melse\u001b[0m\u001b[0;34m:\u001b[0m\u001b[0;34m\u001b[0m\u001b[0;34m\u001b[0m\u001b[0m\n\u001b[1;32m     62\u001b[0m                 \u001b[0;32mreturn\u001b[0m \u001b[0;34m-\u001b[0m \u001b[0moperand\u001b[0m\u001b[0;34m\u001b[0m\u001b[0;34m\u001b[0m\u001b[0m\n\u001b[0;32m---> 63\u001b[0;31m         \u001b[0;32mreturn\u001b[0m \u001b[0m_convert_num\u001b[0m\u001b[0;34m(\u001b[0m\u001b[0mnode\u001b[0m\u001b[0;34m)\u001b[0m\u001b[0;34m\u001b[0m\u001b[0;34m\u001b[0m\u001b[0m\n\u001b[0m\u001b[1;32m     64\u001b[0m     \u001b[0;32mdef\u001b[0m \u001b[0m_convert\u001b[0m\u001b[0;34m(\u001b[0m\u001b[0mnode\u001b[0m\u001b[0;34m)\u001b[0m\u001b[0;34m:\u001b[0m\u001b[0;34m\u001b[0m\u001b[0;34m\u001b[0m\u001b[0m\n\u001b[1;32m     65\u001b[0m         \u001b[0;32mif\u001b[0m \u001b[0misinstance\u001b[0m\u001b[0;34m(\u001b[0m\u001b[0mnode\u001b[0m\u001b[0;34m,\u001b[0m \u001b[0mConstant\u001b[0m\u001b[0;34m)\u001b[0m\u001b[0;34m:\u001b[0m\u001b[0;34m\u001b[0m\u001b[0;34m\u001b[0m\u001b[0m\n",
            "\u001b[0;32m/usr/lib/python3.7/ast.py\u001b[0m in \u001b[0;36m_convert_num\u001b[0;34m(node)\u001b[0m\n\u001b[1;32m     53\u001b[0m         \u001b[0;32melif\u001b[0m \u001b[0misinstance\u001b[0m\u001b[0;34m(\u001b[0m\u001b[0mnode\u001b[0m\u001b[0;34m,\u001b[0m \u001b[0mNum\u001b[0m\u001b[0;34m)\u001b[0m\u001b[0;34m:\u001b[0m\u001b[0;34m\u001b[0m\u001b[0;34m\u001b[0m\u001b[0m\n\u001b[1;32m     54\u001b[0m             \u001b[0;32mreturn\u001b[0m \u001b[0mnode\u001b[0m\u001b[0;34m.\u001b[0m\u001b[0mn\u001b[0m\u001b[0;34m\u001b[0m\u001b[0;34m\u001b[0m\u001b[0m\n\u001b[0;32m---> 55\u001b[0;31m         \u001b[0;32mraise\u001b[0m \u001b[0mValueError\u001b[0m\u001b[0;34m(\u001b[0m\u001b[0;34m'malformed node or string: '\u001b[0m \u001b[0;34m+\u001b[0m \u001b[0mrepr\u001b[0m\u001b[0;34m(\u001b[0m\u001b[0mnode\u001b[0m\u001b[0;34m)\u001b[0m\u001b[0;34m)\u001b[0m\u001b[0;34m\u001b[0m\u001b[0;34m\u001b[0m\u001b[0m\n\u001b[0m\u001b[1;32m     56\u001b[0m     \u001b[0;32mdef\u001b[0m \u001b[0m_convert_signed_num\u001b[0m\u001b[0;34m(\u001b[0m\u001b[0mnode\u001b[0m\u001b[0;34m)\u001b[0m\u001b[0;34m:\u001b[0m\u001b[0;34m\u001b[0m\u001b[0;34m\u001b[0m\u001b[0m\n\u001b[1;32m     57\u001b[0m         \u001b[0;32mif\u001b[0m \u001b[0misinstance\u001b[0m\u001b[0;34m(\u001b[0m\u001b[0mnode\u001b[0m\u001b[0;34m,\u001b[0m \u001b[0mUnaryOp\u001b[0m\u001b[0;34m)\u001b[0m \u001b[0;32mand\u001b[0m \u001b[0misinstance\u001b[0m\u001b[0;34m(\u001b[0m\u001b[0mnode\u001b[0m\u001b[0;34m.\u001b[0m\u001b[0mop\u001b[0m\u001b[0;34m,\u001b[0m \u001b[0;34m(\u001b[0m\u001b[0mUAdd\u001b[0m\u001b[0;34m,\u001b[0m \u001b[0mUSub\u001b[0m\u001b[0;34m)\u001b[0m\u001b[0;34m)\u001b[0m\u001b[0;34m:\u001b[0m\u001b[0;34m\u001b[0m\u001b[0;34m\u001b[0m\u001b[0m\n",
            "\u001b[0;31mValueError\u001b[0m: malformed node or string: <class 'str'>"
          ]
        }
      ]
    },
    {
      "cell_type": "code",
      "source": [
        ""
      ],
      "metadata": {
        "id": "bE1gQBfXH9ib"
      },
      "execution_count": null,
      "outputs": []
    }
  ]
}